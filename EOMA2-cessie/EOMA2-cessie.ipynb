{
 "cells": [
  {
   "cell_type": "markdown",
   "id": "a5e1bca8-9ee3-41f1-9940-a5de9e7f5b97",
   "metadata": {},
   "source": [
    "# End-of-Module Assessment 2"
   ]
  },
  {
   "cell_type": "markdown",
   "id": "d11d77fc-3832-4b39-aee7-8f8014464ac1",
   "metadata": {},
   "source": [
    "## Instructions\n",
    "\n",
    "Please read and follow these instructions and specifications carefully.  \n",
    "\n",
    "1. This test is available from now until August 6 (Friday), 11:59 PM.\n",
    "2. This test covers Module 5, which is about data analysis using libraries. However, you will need fundamental skills from Modules 2 to 4 to do this test properly.\n",
    "3. This test is by project group. \n",
    "4. You are allowed to use the specified non-standard libraries for this test: `pandas`, `numpy`, and `matplotlib`. You are allowed to use any standard library for this test.\n",
    "5. Answers to problems that are hard-coded, done in another program such as Excel, or go against the learning outcomes in any other manner will be given no credit. If you are unsure whether your approach to a problem goes against the learning outcomes, ask.  \n",
    "6. We reserve the right to scrutinize answers to problems that significantly go against the philosophy of a library. For example, if you answer a Pandas item mostly using vanilla Python loops and data structures, you go against the philosophy of Pandas (and NumPy), which is to _vectorize_ your operations as much as you can. We reserve the right to scrutinize your answer accordingly.\n",
    "7. You are encouraged to use only the provided code cell for each number. However, if you _need_ more cells, you may add them. If you do add more cells, make sure to label them very clearly. Code cells that are not clearly labelled will not be checked.\n",
    "8. If you are asked to output files, please write them all to the `output` folder. If your kit does not have an `output` folder, you may make one.\n",
    "\n",
    "Submission instructions for normal (i.e., not cross-section) groups:\n",
    "1. Assign a group leader. The leader is who will submit the assessment.\n",
    "2. The leader must create a NEW GitHub repository. This repository is what they will submit to the Canvas assignment to indicate that the group has submitted. They should name this repository SECTION-GROUPNUM-EOMA2 (e.g., A-5-EOMA2).\n",
    "3. The leader must upload the contents of this folder to the repository. This includes the EOMA2.ipynb file, the output folder, and all section folders.\n",
    "4. To officially submit the assignment, the group leader must upload the link to the GitHub repository and ALL GROUP MEMBERS' COAs to the Canvas assignment.\n",
    "\n",
    "Submission instructions for cross-section groups:\n",
    "1. Assign a group leader. The leader is who will create the GitHub repository, and they are who will add the required files to the GitHub repository. \n",
    "2. The leader must create a NEW GitHub repository. They should name this repository GROUPNAME-EOMA2 (e.g., CS1-EOMA2). \n",
    "3. The leader must upload the contents of this folder to the repository. This includes the EOMA2.ipynb file, the output folder, and all section folders.\n",
    "4. Since your group is split across sections, your group must choose one member per represented section to submit the exact same file kit to their respective section's Canvas assignment. For example, if all sections (A, G, and H) are represented in your group, choose one person per section (i.e., 3 people) to submit your EOMA2 submission to their respective section's Canvas assignment. If only two sections are represented, then only 2 submissions (i.e., one per represented section, so in this case 2) must be submitted. Please note that we will quite literally not give a grade to students in cross-section groups who are not represented by a submission for their section. \n"
   ]
  },
  {
   "cell_type": "markdown",
   "id": "fa0229ba-a9fd-4a04-b883-7bedca308d16",
   "metadata": {},
   "source": [
    "## Section 1: Financial Data (75 points)"
   ]
  },
  {
   "cell_type": "markdown",
   "id": "a103e5b8-c314-4529-86c4-738b3c1efcd6",
   "metadata": {},
   "source": [
    "### Context\n",
    "\n",
    "You are a freelance data consultant. You were hired by a firm that sells historical data on the prices of cryptocurrencies in bulk to aspiring quantitative analysts. However, a freak flood in their data center corrupted their databases, causing their data to be damaged. It is now up to you to fix their data and to polish it into a form that is presentable and acceptable to one of their biggest clients.  \n",
    "\n",
    "The client firm provided you with six sample corrupted files:  \n",
    "1. `./section1/CORRUPTED-AC-ALLDAYS-07-2021.csv`\n",
    "2. `./section1/CORRUPTED-CC-ALLDAYS-07-2021.csv`\n",
    "3. `./section1/CORRUPTED-DC-ALLDAYS-07-2021.csv`\n",
    "4. `./section1/CORRUPTED-EC2-ALLDAYS-07-2021.csv`\n",
    "5. `./section1/CORRUPTED-NC-ALLDAYS-07-2021.csv`\n",
    "6. `./section1/CORRUPTED-SHC-ALLDAYS-07-2021.csv`  \n",
    "\n",
    "Each of these sample files represents the price history of a cryptocurrency from January 1, 2015 to December 31, 2019. Remember that these are just _sample_ files and that the true database is many thousands of files large. (The client firm declined to share their entire database for information security reasons.) As such, **you are expected to perform these operations in Pandas instead of vanilla Python to increase the efficiency of your scripts when they are eventually deployed to their servers**.  \n",
    "\n",
    "You have surveyed the data a little, and it is clear to you that all of the data sets suffer from the same defects. (In other words: the files are all damaged _in the same way_.) It is also clear to you that you will be working with dates. You think to yourself: maybe there's a library for this.  \n",
    "\n",
    "The client did not provide any sample output."
   ]
  },
  {
   "cell_type": "markdown",
   "id": "c441bd6a-09a3-4781-8ee0-36b0c3df3928",
   "metadata": {},
   "source": [
    "### 1.1  \n",
    "\n",
    "The client wants you to repair each of the damaged files by following these rules:\n",
    "1. Some of the date values are missing. They want you to ensure that all dates have a row in the repaired files, and they want you to fill the price value of the repaired rows with the most recent valid price value. If there is no most recent valid price value, use the next valid price value.\n",
    "2. The clients also want you to remove rows with dates that are on weekends. They acknowledge that this is strange given that cryptocurrencies are traded nonstop, but they explain that it is because their own clients come from a banking background and that their clients specifically requested it.  \n",
    "\n",
    "Save each of the repaired files as `./output/REPAIRED-{CODE}-ALLDAYS-07-2021.csv`. So, for example, `./section1/CORRUPTED-AC-ALLDAYS-07-2021.csv` will be repaired and saved as `./output/REPAIRED-AC-ALLDAYS-07-2021.csv`.  \n",
    "\n",
    "Do not include the dataframe index when saving the dataframes to csv."
   ]
  },
  {
   "cell_type": "code",
   "execution_count": 1,
   "id": "b62b96ec-ccd6-49ce-bf61-2ca4d15ccfe6",
   "metadata": {},
   "outputs": [],
   "source": [
    "# CODE CELL\n",
    "import pandas as pd\n",
    "\n",
    "import csv\n",
    "from datetime import datetime, timedelta\n",
    "\n",
    "# CODE START\n",
    "\n",
    "def repair(corrupted_file):\n",
    "    with open(corrupted_file, \"r\") as csvfile:\n",
    "        csvreader = csv.DictReader(csvfile)\n",
    "\n",
    "        og_dates = []\n",
    "        correct_dates = []\n",
    "        missing_dates = []\n",
    "        og_price = []\n",
    "\n",
    "        # unpack data from csvreader\n",
    "        for i in csvreader:\n",
    "            og_dates.append(i[\"date\"])\n",
    "            og_price.append(i[\"price\"])\n",
    "\n",
    "        # place data in a DF\n",
    "        df_corrupted = pd.DataFrame(og_dates, columns = [\"date\"])\n",
    "        df_corrupted[\"price\"] = og_price\n",
    "\n",
    "        start_date = datetime(2015, 1, 1).date()\n",
    "        end_date = datetime(2019, 12, 31).date()\n",
    "        steps = timedelta(days = 1)\n",
    "\n",
    "        while start_date <= end_date:\n",
    "            correct_dates.append(str(start_date))\n",
    "            start_date += steps\n",
    "\n",
    "        # find missing dates\n",
    "        for i in correct_dates:\n",
    "            if i in og_dates:\n",
    "                continue\n",
    "            else:\n",
    "                missing_dates.append(i)\n",
    "\n",
    "        # make missing DF\n",
    "        df_missing = pd.DataFrame(missing_dates, columns = [\"date\"])\n",
    "        df_missing[\"price\"] = \"0\"\n",
    "\n",
    "        # make corrected DF\n",
    "        df_corrected = df_corrupted.append(df_missing)\n",
    "        df_corrected.sort_values(by = \"date\", ascending = True, inplace = True)\n",
    "        df_corrected.reset_index(drop = True, inplace = True)\n",
    "\n",
    "        # correct the prices of missing dates\n",
    "        for i in range(len(df_corrected)):\n",
    "            before = i - 1\n",
    "            after = i + 1\n",
    "            if df_corrected.loc[i,\"price\"] != \"0\":\n",
    "                continue\n",
    "            try:\n",
    "                # most recent price value\n",
    "                if df_corrected.loc[before,\"price\"] != \"0\":\n",
    "                    df_corrected.loc[i,\"price\"] = df_corrected.loc[before,\"price\"]\n",
    "                # next valid price value\n",
    "                elif df_corrected.loc[after,\"price\"] != \"0\":\n",
    "                    df_corrected.loc[i,\"price\"] = df_corrected.loc[after,\"price\"]\n",
    "            except:\n",
    "                if df_corrected.loc[after,\"price\"] != \"0\":\n",
    "                    df_corrected.loc[i,\"price\"] = df_corrected.loc[after,\"price\"]\n",
    "\n",
    "        # drop entries with dates on the weekends\n",
    "        for i in range(len(df_corrected)):\n",
    "            date_format = datetime.strptime(df_corrected.loc[i,\"date\"],'%Y-%m-%d').date()\n",
    "            if date_format.isoweekday() == 6 or date_format.isoweekday() == 7:\n",
    "                df_corrected.drop([i], axis = 0, inplace = True)\n",
    "\n",
    "        # renaming file\n",
    "        rename_1 = corrupted_file.replace(\"CORRUPTED\",\"REPAIRED\")\n",
    "        rename_2 = rename_1.replace(\"section1\",\"output\")\n",
    "\n",
    "        df_corrected.to_csv(rename_2, index = False)\n",
    "    \n",
    "# CODE END\n",
    "\n",
    "repair(\"./section1/CORRUPTED-AC-ALLDAYS-07-2021.csv\")\n",
    "repair(\"./section1/CORRUPTED-CC-ALLDAYS-07-2021.csv\")\n",
    "repair(\"./section1/CORRUPTED-DC-ALLDAYS-07-2021.csv\")\n",
    "repair(\"./section1/CORRUPTED-EC2-ALLDAYS-07-2021.csv\")\n",
    "repair(\"./section1/CORRUPTED-NC-ALLDAYS-07-2021.csv\")\n",
    "repair(\"./section1/CORRUPTED-SHC-ALLDAYS-07-2021.csv\")"
   ]
  },
  {
   "cell_type": "markdown",
   "id": "5d18b15e-8b8f-45f7-92e1-cb908aa969a2",
   "metadata": {},
   "source": [
    "### 1.2\n",
    "\n",
    "The client also wants you to _aggregate_ the data so that it is easier to make it portable and so that it is easier to create chart thumbnails from the data. They want you to follow these rules:\n",
    "1. They want you to use the _repaired files_ as the basis data for this task.\n",
    "2. They want you to group the data by _month_ and for the price to be the average of all of the data entries that fall within the respective month. In other words, each row should have two columns: `month` and `average_price`. `month` should be a string formatted as {YEAR}-{MONTHNUM} (e.g., 2015-1 for January 2015), and `average_price` should simply be the float value of the average price of all data entries that belong to that month.  \n",
    "\n",
    "Save each of the transformed files as `./output/AGGREGATED-{CODE}-ALLDAYS-07-2021.csv`. So, for example, `./output/REPAIRED-AC-ALLDAYS-07-2021.csv` will be aggregated and saved as `./output/AGGREGATED-AC-ALLDAYS-07-2021.csv`  \n",
    "\n",
    "Do not include the dataframe index when saving the dataframes to csv."
   ]
  },
  {
   "cell_type": "code",
   "execution_count": 2,
   "id": "cc9c06bf-6c99-49d7-9564-25ea67eed095",
   "metadata": {},
   "outputs": [],
   "source": [
    "# CODE CELL\n",
    "\n",
    "# CODE START\n",
    "\n",
    "def aggregate(repaired_file):\n",
    "    \n",
    "    repaired_df=pd.read_csv(repaired_file)\n",
    "    \n",
    "    repaired_df['month'] = pd.to_datetime(repaired_df['date']).dt.to_period('M')   \n",
    "    mean_df=repaired_df.groupby('month').mean().reset_index()\n",
    "    mean_df.columns=['month','average_price']\n",
    "    \n",
    "    filename=repaired_file.replace('REPAIRED','AGGREGATED')\n",
    "    \n",
    "    mean_df.to_csv(filename,index=False)\n",
    "    \n",
    "    \n",
    "aggregate(\"./output/REPAIRED-AC-ALLDAYS-07-2021.csv\")\n",
    "aggregate(\"./output/REPAIRED-CC-ALLDAYS-07-2021.csv\")\n",
    "aggregate(\"./output/REPAIRED-DC-ALLDAYS-07-2021.csv\")\n",
    "aggregate(\"./output/REPAIRED-EC2-ALLDAYS-07-2021.csv\")\n",
    "aggregate(\"./output/REPAIRED-NC-ALLDAYS-07-2021.csv\")\n",
    "aggregate(\"./output/REPAIRED-SHC-ALLDAYS-07-2021.csv\")\n",
    "    \n",
    "\n",
    "# CODE END\n",
    "\n"
   ]
  },
  {
   "cell_type": "markdown",
   "id": "c549734c-e14c-4185-bcdf-c2804dff157c",
   "metadata": {},
   "source": [
    "### 1.3\n",
    "\n",
    "Finally, the client wants you to generate charts that they can use as thumbnails for their data products. They want you to follow these rules:\n",
    "1. They want you to use the _aggregated files_ as the basis data for this task.\n",
    "2. They want you to visualize the aggregated data as a line chart. Use the `month` column as the x-axis and the `average_price` column as the y-axis.  \n",
    "\n",
    "Save each of the generated charts as `./output/CHART-{CODE}.png`. So, for example, `./output/AGGREGATED-AC-ALLDAYS-07-2021.csv` will be charted and saved as `./output/CHART-AC.png`."
   ]
  },
  {
   "cell_type": "code",
   "execution_count": 3,
   "id": "28888435-c2c0-4c14-83da-f84f44309fd3",
   "metadata": {},
   "outputs": [
    {
     "data": {
      "image/png": "[encoded data removed]",
      "text/plain": [
       "<IPython.core.display.Image object>"
      ]
     },
     "execution_count": 3,
     "metadata": {},
     "output_type": "execute_result"
    },
    {
     "data": {
      "image/png": "[encoded data removed]",
      "text/plain": [
       "<Figure size 432x288 with 1 Axes>"
      ]
     },
     "metadata": {
      "needs_background": "light"
     },
     "output_type": "display_data"
    }
   ],
   "source": [
    "# CODE CELL\n",
    "import pandas as pd\n",
    "import numpy as np\n",
    "import matplotlib.pyplot as plt\n",
    "import re\n",
    "\n",
    "# CODE START\n",
    "\n",
    "def chart(aggregated_file):\n",
    "    data = pd.read_csv(aggregated_file, delimiter=',')\n",
    "    plt.plot(data['month'], data['average_price'])\n",
    "    plt.xlabel(\"Month\")\n",
    "    plt.ylabel(\"Average Price\")\n",
    "    index = aggregated_file.find(\"-\")\n",
    "    code = aggregated_file[index:].replace(\"-ALLDAYS-07-2021.csv\", \"\")\n",
    "    plt.savefig(f\"./output/CHART{code}.png\")\n",
    "    \n",
    "chart(\"./output/AGGREGATED-AC-ALLDAYS-07-2021.csv\")\n",
    "chart(\"./output/AGGREGATED-CC-ALLDAYS-07-2021.csv\")\n",
    "chart(\"./output/AGGREGATED-DC-ALLDAYS-07-2021.csv\")\n",
    "chart(\"./output/AGGREGATED-EC2-ALLDAYS-07-2021.csv\")\n",
    "chart(\"./output/AGGREGATED-NC-ALLDAYS-07-2021.csv\")\n",
    "chart(\"./output/AGGREGATED-SHC-ALLDAYS-07-2021.csv\")\n",
    "\n",
    "\n",
    "# CODE END\n",
    "\n",
    "# This is a sample chart. Delete this when you run your cell. \n",
    "# Make yours look nicer, but this is generally the backbone of what you should output.\n",
    "from IPython.display import Image\n",
    "Image(filename='./section1/sample-basic-chart.png') "
   ]
  },
  {
   "cell_type": "markdown",
   "id": "e1beffe5-e110-490b-99dd-f0fdb83a935f",
   "metadata": {},
   "source": [
    "## Section 2: Cleaning Marketing Data (75 points)"
   ]
  },
  {
   "cell_type": "markdown",
   "id": "f348b81f-1959-4b4d-a585-f605232fedb3",
   "metadata": {},
   "source": [
    "### Context\n",
    "\n",
    "You are a freelance data consultant. You were hired by a marketing firm that collects customer data for their clients, which are big fast-moving-consumer-goods (FMCG) firms. Your client, the marketing firm, currently handles their operations through a \"multi-channel\" approach. (To grossly oversimplify, a multi-channel approach to marketing means that a brand can interact with customers across more than one channel). However, they would like to upgrade their system to use an \"omni-channel\" approach. (An omni-channel approach means that a customer can be recognized across multiple channels. This is important because you will be able to personalize their experience better.)  \n",
    "\n",
    "Your client currently has three main data sets:  \n",
    "1. Manual interaction (`./section2/raw-manual.csv`)\n",
    "2. Website interaction (`./section2/raw-website.csv`)\n",
    "3. Email interaction (`./section2/raw-email.csv`)\n",
    "\n",
    "They task you with cleaning and merging their data to help them establish their omni-channel capabilities.  \n",
    "\n",
    "Again, you are to use Pandas for this, because your client's real databases are much, much bigger than these samples."
   ]
  },
  {
   "cell_type": "markdown",
   "id": "e861cb98-63fb-4b18-befb-98ffd95ebf5a",
   "metadata": {},
   "source": [
    "### 2.1\n",
    "\n",
    "Your client first asks you to clean up their data. They want their data to follow these rules:  \n",
    "1. Emails must not have any capital letters.  \n",
    "2. Mobile numbers must be formatted as `+63XXXXXXXXXX` (e.g., +639174005892).\n",
    "3. All the fields (fname, lname, email, and mobile) must be filled.\n",
    "4. The fields must only contain data relevant to them; they must not contain data that does not belong in their column.\n",
    "\n",
    "You have surveyed the data a little, and you have determined that though the data is dirty, it at least adheres to the following patterns:\n",
    "1. All of the emails adhere to the email standard at https://emailregex.com/. (That's a hint.)\n",
    "2. There are only 4 different \"patterns\" under the `mobile` columns per data set. (An empty field is not one of these 4 patterns).\n",
    "3. The manual data set appears to have sometimes merged the `email` value and the `mobile` value into the `email` column and left the `mobile` column empty. The mobile value in these defective columns may be any one of the 4 different \"patterns\" that mobile numbers follow.  \n",
    "\n",
    "Perform this cleanup on each of the three raw data sets.  \n",
    "\n",
    "Save the cleaned data sets as `./output/cleaned-{dataset_name}.csv`. So, for example, `./section2/raw-manual.csv` will be cleaned and saved as `./output/cleaned-manual.csv`.  \n",
    "\n",
    "Do not include the dataframe index in the output csv."
   ]
  },
  {
   "cell_type": "code",
   "execution_count": null,
   "id": "23ceeed9-f145-450b-a8b3-259e16785f33",
   "metadata": {},
   "outputs": [],
   "source": [
    "# CODE CELL\n",
    "import pandas as pd\n",
    "import re # That's a hint.\n",
    "\n",
    "# CODE START\n",
    "\n",
    "# CODE END"
   ]
  },
  {
   "cell_type": "markdown",
   "id": "157e2788-6360-4b22-acd1-f831606288a7",
   "metadata": {},
   "source": [
    "### 2.2\n",
    "\n",
    "Your client wants you to generate a comprehensive list of the identities present in their scattered data. Their specifications are as follows:\n",
    "1. Use the cleaned data from 2.1 as your data source.\n",
    "2. Use the emails as the indicator of a unique identity.\n",
    "3. Sort the final file by the email in alphabetical order.\n",
    "\n",
    "Save the cleaned data sets as `./output/merged-identities.csv`.  \n",
    "\n",
    "Do not include the dataframe index in the output csv."
   ]
  },
  {
   "cell_type": "code",
   "execution_count": null,
   "id": "35a453ce-4e2c-4990-92f7-e44696fda8d7",
   "metadata": {},
   "outputs": [],
   "source": [
    "# CODE CELL\n",
    "import pandas as pd\n",
    "\n",
    "# CODE START\n",
    "\n",
    "# CODE END"
   ]
  }
 ],
 "metadata": {
  "kernelspec": {
   "display_name": "Python 3",
   "language": "python",
   "name": "python3"
  },
  "language_info": {
   "codemirror_mode": {
    "name": "ipython",
    "version": 3
   },
   "file_extension": ".py",
   "mimetype": "text/x-python",
   "name": "python",
   "nbconvert_exporter": "python",
   "pygments_lexer": "ipython3",
   "version": "3.8.8"
  }
 },
 "nbformat": 4,
 "nbformat_minor": 5
}
